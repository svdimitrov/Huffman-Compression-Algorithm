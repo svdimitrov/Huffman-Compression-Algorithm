{
 "cells": [
  {
   "cell_type": "code",
   "execution_count": 21,
   "source": [
    "%matplotlib inline"
   ],
   "outputs": [],
   "metadata": {}
  },
  {
   "cell_type": "code",
   "execution_count": 22,
   "source": [
    "import numpy as np\r\n",
    "import matplotlib.pyplot as plt\r\n",
    "import heapq"
   ],
   "outputs": [],
   "metadata": {}
  },
  {
   "cell_type": "markdown",
   "source": [
    "# Huffman Compression Algorithm\n",
    "## Author: Stefan Dimitrov"
   ],
   "metadata": {}
  },
  {
   "cell_type": "markdown",
   "source": [
    "## Abstract\n",
    "This research looks at the work of David Huffman. This project is going to cover knowledge about lossless and lossy compression, the diffrence between them. Also we will see what Huffman trees are, why they are used so much and how well does Huffman compression perform compared to other algorithms."
   ],
   "metadata": {}
  },
  {
   "cell_type": "markdown",
   "source": [
    "David Albert Huffman (1925 – 1999) was a pioneer in computer science, known for his Huffman coding. He was also one of the pioneers in the field of mathematical origami. David Huffman died at the age of 74, ten months after being diagnosed with cancer.\r\n",
    "\r\n",
    "<img src=\"img/david_huffman.png\">\r\n",
    "\r\n",
    "In computer science and information theory, a Huffman code is a particular type of optimal prefix code that is commonly used for lossless data compression. The process of finding and using such a code proceeds by means of Huffman coding, an algorithm developed by David A. Huffman while he was a Sc.D. student at MIT, and published in the 1952 paper \"A Method for the Construction of Minimum-Redundancy Codes\".\r\n",
    "\r\n",
    "The output from Huffman's algorithm can be viewed as a variable-length code table for encoding a source symbol. The algorithm derives this table from the estimated probability or frequency of occurrence for each possible value of the source symbol. As in other entropy encoding methods, more common symbols are generally represented using fewer bits than less common symbols. Huffman's method can be efficiently implemented, finding a code in time linear to the number of input weights if these weights are sorted. However, although optimal among methods encoding symbols separately, Huffman coding is not always optimal among all compression methods."
   ],
   "metadata": {}
  },
  {
   "cell_type": "markdown",
   "source": [
    "## Why is this algorithm used worldwide?\n",
    "In computer science and information theory, Huffman coding is an algorithm used for\n",
    "lossless data compression. Lossless compression is used in cases where it is important that the original and the decompressed data be identical, or where deviations from the original data would be unfavourable. Typical examples are executable programs, text documents, and source code. It is also used for image and audio compression."
   ],
   "metadata": {}
  },
  {
   "cell_type": "markdown",
   "source": [
    "## What is the difference betwenn lossless and lossy compression?\r\n",
    "### 1. Lossless compression\r\n",
    "Lossless compression is a class of data compression algorithms that allows the original data to be perfectly reconstructed from the compressed data. By contrast, lossy compression permits reconstruction only of an approximation of the original data, though this usually improves compression rates (and therefore reduces file sizes).\r\n",
    "\r\n",
    "Lossless data compression is used in many applications. For example, it is used in the ZIP file format and in the GNU tool gzip. It is also often used as a component within lossy data compression technologies (e.g. lossless mid/side joint stereo preprocessing by MP3 encoders and other lossy audio encoders).\r\n",
    "\r\n",
    "Lossless compression is used in cases where it is important that the original and the decompressed data be identical, or where deviations from the original data would be unfavourable. Typical examples are executable programs, text documents, and source code. Some image file formats, like PNG or GIF, use only lossless compression, while others like TIFF and MNG may use either lossless or lossy methods\r\n",
    "### 2. Lossy compression\r\n",
    "In information technology, lossy compression or irreversible compression is the class of data encoding methods that uses inexact approximations and partial data discarding to represent the content. These techniques are used to reduce data size for storage, handling, and transmitting content. Different versions of the photo of the cat above show how higher degrees of approximation create coarser images as more details are removed. This is opposed to lossless data compression (reversible data compression) which does not degrade the data. The amount of data reduction possible using lossy compression is much higher than through lossless techniques.\r\n",
    "\r\n",
    "Well-designed lossy compression technology often reduces file sizes significantly before degradation is noticed by the end-user. Even when noticeable by the user, further data reduction may be desirable (e.g., for real-time communication, to reduce transmission times, or to reduce storage needs).\r\n",
    "\r\n",
    "Lossy compression is most commonly used to compress multimedia data (audio, video, and images), especially in applications such as streaming media and internet telephony. By contrast, lossless compression is typically required for text and data files, such as bank records and text articles. In many cases it is advantageous to make a master lossless file which is to be used to produce new compressed files; for example, a multi-megabyte file can be used at full size to produce a full-page advertisement in a glossy magazine, and a 10 kilobyte lossy copy can be made for a small image on a web page.\r\n",
    "\r\n",
    "<img src=\"img/lossless.png\">"
   ],
   "metadata": {}
  },
  {
   "cell_type": "markdown",
   "source": [
    "## Entropy encoding\r\n",
    "Understanding entropy encoding is very important, because one of the most common entropy encoding techniques is exactly Huffman coding (Another really common technique is Arithmetic coding).\r\n",
    "\r\n",
    "Entropy is used a lot in science. But for now we are interested only for its use in data compression, computing and information theory.\r\n",
    "\r\n",
    "* Data compression - Entropy in data compression may denote the randomness of the data that you are inputing to the compression algorithm. The more the entropy, the lesser the compression ratio. That means the more random the text is, the lesser you can compress it.\r\n",
    "\r\n",
    "\r\n",
    "* Computing - In computing, entropy is the randomness collected by an operating system or application for use in cryptography or other uses that require random data. This randomness is often collected from hardware sources, either pre-existing ones such as mouse movements or specially provided randomness generators.\r\n",
    "\r\n",
    "\r\n",
    "* Information theory - In information theory, entropy is a measure of the uncertainty associated with a random variable. The term by itself in this context usually refers to the Shannon entropy, which quantifies, in the sense of an expected value, the information contained in a message, usually in units such as bits. Equivalently, the Shannon entropy is a measure of the average information content one is missing when one does not know the value of the random variable\r\n",
    "\r\n",
    "\r\n",
    "<img src=\"img/entropy.png\">\r\n",
    "\r\n",
    "Lets say we have a unfair coin. So do figure out what is the chance do get one of the both sides we have to use this algorithm:\r\n",
    "### $$H(X) = \\sum_{i=1}^{M} p_ilog_2\\frac{1}{p_i}$$\r\n",
    "Where 'p' is probability. Lets say that the chances get one of each sides are 0,75 and 0,25. Then:\r\n",
    "### $$H(X) = 0.75 \\times log_2\\frac{1}{0.75} + 0.25 \\times log_2\\frac{1}{0.25} \\approx 0.811$$"
   ],
   "metadata": {}
  },
  {
   "cell_type": "markdown",
   "source": [
    "## Huffman trees\r\n",
    "1. Source symbols\r\n",
    "2. Frequency table\r\n",
    "3. Huffman tree\r\n",
    "4. Huffman code\r\n",
    "\r\n",
    "<img src=\"img/huffman_tree.png\" width=350>"
   ],
   "metadata": {}
  },
  {
   "cell_type": "markdown",
   "source": [
    "##### OK, now after we know what a Huffman tree is, we need to learn how to use and print it:"
   ],
   "metadata": {}
  },
  {
   "cell_type": "code",
   "execution_count": 23,
   "source": [
    "def printTree(given_tree, depth=0):\r\n",
    "    value = given_tree[0]\r\n",
    "    child0 = given_tree[1] if len(given_tree) >= 2 else 'None' # Getting the child if it exists\r\n",
    "    child1 = given_tree[2] if len(given_tree) >= 3 else 'None'\r\n",
    "    print(' ' * depth, value) # Printing the value\r\n",
    "    if child0 != 'None':\r\n",
    "        printTree(child0, depth + 1)\r\n",
    "    if child1 != 'None':\r\n",
    "        printTree(child1, depth + 1)"
   ],
   "outputs": [],
   "metadata": {}
  },
  {
   "cell_type": "code",
   "execution_count": 24,
   "source": [
    "tree = ['A', ['B', ['D']], ['C', ['E'], ['F']]]\r\n",
    "printTree(tree)"
   ],
   "outputs": [
    {
     "output_type": "stream",
     "name": "stdout",
     "text": [
      " A\n",
      "  B\n",
      "   D\n",
      "  C\n",
      "   E\n",
      "   F\n"
     ]
    }
   ],
   "metadata": {
    "collapsed": true
   }
  },
  {
   "cell_type": "markdown",
   "source": [
    "##### Now lets try to make a tree from given frequencies:\n",
    "Note that we are using a new import - heapq. It is going to help us making our tree. If you dont know what heapq does check this link: https://docs.python.org/2/library/heapq.html"
   ],
   "metadata": {}
  },
  {
   "cell_type": "code",
   "execution_count": 25,
   "source": [
    "def makeTree(letterFrequencies):\r\n",
    "    heap = []\r\n",
    "    for lf in letterFrequencies:\r\n",
    "        heapq.heappush(heap, [lf]) # Making our tree with heapq\r\n",
    "    while len(heap) > 1:\r\n",
    "        child0 = heapq.heappop(heap) # Gathering all the childs so we can make a node\r\n",
    "        child1 = heapq.heappop(heap)\r\n",
    "        freq0, label0 = child0[0]\r\n",
    "        freq1, label1 = child1[0]\r\n",
    "        freq = freq0 + freq1\r\n",
    "        label = ''.join(sorted(label0 + label1))\r\n",
    "        node = [(freq, label), child0, child1]\r\n",
    "        heapq.heappush(heap, node) # Finally pushing back the node into our tree\r\n",
    "    return heap.pop()\r\n"
   ],
   "outputs": [],
   "metadata": {}
  },
  {
   "cell_type": "code",
   "execution_count": 26,
   "source": [
    "tree = makeTree([(45, 'a'), (13, 'b'), (12, 'c'), (16, 'd'), (9, 'e'), (5, 'f')])\r\n",
    "print(tree)"
   ],
   "outputs": [
    {
     "output_type": "stream",
     "name": "stdout",
     "text": [
      "[(100, 'abcdef'), [(45, 'a')], [(55, 'bcdef'), [(25, 'bc'), [(12, 'c')], [(13, 'b')]], [(30, 'def'), [(14, 'ef'), [(5, 'f')], [(9, 'e')]], [(16, 'd')]]]]\n"
     ]
    }
   ],
   "metadata": {
    "collapsed": true
   }
  },
  {
   "cell_type": "markdown",
   "source": [
    "##### Here is how we can make a code map:"
   ],
   "metadata": {}
  },
  {
   "cell_type": "code",
   "execution_count": 27,
   "source": [
    "def walkTree(codeTree, codeMap, codePrefix):\r\n",
    "    if len(codeTree) == 1: # if we reached a leaf we stop\r\n",
    "        freq, label = codeTree[0]\r\n",
    "        codeMap[label] = codePrefix\r\n",
    "    else:\r\n",
    "        value, child0, child1 = codeTree # if we are still not reahcing a leaf we continue \r\n",
    "        walkTree(child0, codeMap, codePrefix + '0') # Note that we are using recursion\r\n",
    "        walkTree(child1, codeMap, codePrefix + '1')\r\n",
    "\r\n",
    "\r\n",
    "def makeCodeMap(codeTree):\r\n",
    "    codeMap = {}\r\n",
    "    walkTree(codeTree, codeMap, '')\r\n",
    "    return codeMap"
   ],
   "outputs": [],
   "metadata": {}
  },
  {
   "cell_type": "code",
   "execution_count": 28,
   "source": [
    "tree = makeTree([(45, 'a'), (13, 'b'), (12, 'c'), (16, 'd'), (9, 'e'), (5, 'f')])\r\n",
    "print(makeCodeMap(tree))"
   ],
   "outputs": [
    {
     "output_type": "stream",
     "name": "stdout",
     "text": [
      "{'a': '0', 'c': '100', 'b': '101', 'f': '1100', 'e': '1101', 'd': '111'}\n"
     ]
    }
   ],
   "metadata": {
    "collapsed": true
   }
  },
  {
   "cell_type": "markdown",
   "source": [
    "##### Finally the most important functions - encoding and decoding:"
   ],
   "metadata": {}
  },
  {
   "cell_type": "code",
   "execution_count": 29,
   "source": [
    "def encode(message, frequencies):\r\n",
    "    codeMap = makeCodeMap(makeTree(frequencies))\r\n",
    "    return ''.join([codeMap[letter] for letter in message]) #returning a string not a list\r\n",
    "\r\n",
    "\r\n",
    "def decode(encodedMessage, frequencies):\r\n",
    "    entireTree = makeTree(frequencies)\r\n",
    "    codeTree = entireTree\r\n",
    "    decodedLetters = []\r\n",
    "\r\n",
    "    for digit in encodedMessage:\r\n",
    "        if digit == '0': # with this operation we decide to go right or left\r\n",
    "            codeTree = codeTree[1]\r\n",
    "        else:\r\n",
    "            codeTree = codeTree[2]\r\n",
    "        if len(codeTree) == 1: # if we reached a leaf we stop\r\n",
    "            frequency, label = codeTree[0]\r\n",
    "            decodedLetters.append(label)\r\n",
    "            codeTree = entireTree\r\n",
    "    return ''.join(decodedLetters)\r\n"
   ],
   "outputs": [],
   "metadata": {}
  },
  {
   "cell_type": "code",
   "execution_count": 30,
   "source": [
    "freq = [(45, 'a'), (13, 'b'), (12, 'c'), (16, 'd'), (9, 'e'), (5, 'f')]\r\n",
    "\r\n",
    "message = 'abacdaebfa'\r\n",
    "print(encode(message, freq))\r\n",
    "\r\n",
    "encoded_message = '010101001110110110111000'\r\n",
    "print(decode(encoded_message, freq))"
   ],
   "outputs": [
    {
     "output_type": "stream",
     "name": "stdout",
     "text": [
      "010101001110110110111000\n",
      "abacdaebfa\n"
     ]
    }
   ],
   "metadata": {
    "collapsed": true
   }
  },
  {
   "cell_type": "markdown",
   "source": [
    "### Huffman algorithm compared to LZW"
   ],
   "metadata": {}
  },
  {
   "cell_type": "markdown",
   "source": [
    "LZW is dictionary-based - as it encodes the input data, it achieves compression by replacing sub-strings that have occurred previously with references into the dictionary.\n",
    "\n",
    "If phrases do not repeat (the data is a stream of symbols in more or less random order), LZW isn't going to be able to compress the data very well.\n",
    "\n",
    "By contrast, Huffman Coding could still compress the data significantly if certain symbols (characters or bytes) occur more frequently than others."
   ],
   "metadata": {}
  },
  {
   "cell_type": "markdown",
   "source": [
    "## Summary:\n",
    "* Lossless and lossy compression.\n",
    "* Entropy encoding.\n",
    "* Huffman tree\n",
    "* Comparison between Huffman compression and LZW"
   ],
   "metadata": {}
  },
  {
   "cell_type": "markdown",
   "source": [
    "### References:\n",
    "* https://en.wikipedia.org/wiki/Huffman_coding\n",
    "* https://en.wikipedia.org/wiki/Lossless_compression\n",
    "* https://en.wikipedia.org/wiki/Lossy_compression\n",
    "* https://stackoverflow.com/questions/510412/what-is-the-computer-science-definition-of-entropy\n",
    "* https://www.youtube.com/watch?v=umTbivyJoiI&t=477s"
   ],
   "metadata": {}
  }
 ],
 "metadata": {
  "kernelspec": {
   "name": "python3",
   "display_name": "Python 3.9.5 64-bit ('venv': venv)"
  },
  "language_info": {
   "codemirror_mode": {
    "name": "ipython",
    "version": 3
   },
   "file_extension": ".py",
   "mimetype": "text/x-python",
   "name": "python",
   "nbconvert_exporter": "python",
   "pygments_lexer": "ipython3",
   "version": "3.9.5"
  },
  "interpreter": {
   "hash": "8f00a20efcc18da95354c25d74a4305b2e414d7321a121bd88c8fcdaa1f876eb"
  }
 },
 "nbformat": 4,
 "nbformat_minor": 2
}